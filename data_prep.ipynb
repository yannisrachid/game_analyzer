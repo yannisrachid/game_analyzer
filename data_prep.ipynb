{
 "cells": [
  {
   "cell_type": "code",
   "execution_count": 1,
   "metadata": {},
   "outputs": [],
   "source": [
    "import pandas as pd\n",
    "import json\n",
    "import logging\n",
    "import os"
   ]
  },
  {
   "cell_type": "code",
   "execution_count": 2,
   "metadata": {},
   "outputs": [],
   "source": [
    "leagues = [\"Bundesliga\", \"EPL\", \"La_Liga\", \"Ligue_1\", \"Serie_A\", \"Liga_Nos\", \"Eredivisie\", \"Jupiler_Pro_League\"]"
   ]
  },
  {
   "cell_type": "code",
   "execution_count": 3,
   "metadata": {},
   "outputs": [],
   "source": [
    "def load_json(folder, league):\n",
    "    json_file = \"{}/{}_2024_match_data.json\".format(folder, league)\n",
    "    with open(json_file, \"r\") as json_data:\n",
    "        data = json.load(json_data)\n",
    "    return data"
   ]
  },
  {
   "cell_type": "code",
   "execution_count": 4,
   "metadata": {},
   "outputs": [],
   "source": [
    "data_dict = {}\n",
    "for league in leagues:\n",
    "    data_dict[league] = load_json(\"json_data\", league)"
   ]
  },
  {
   "cell_type": "code",
   "execution_count": 3,
   "metadata": {},
   "outputs": [],
   "source": [
    "import pandas as pd\n",
    "import logging\n",
    "import os\n",
    "\n",
    "def json_to_df(data, league):\n",
    "    logging.info(\"Traitement de la ligue : {}\".format(league))\n",
    "    print(\"Traitement de la ligue : {}\".format(league))\n",
    "\n",
    "    cols = [\"game\", \"game_id\", \"score\", \"event_id\", \"period_id\", \"team_id\", \"player_id\", \"player_name\", \"type_id\", \"date\", \"minute\", \"second\", \"outcome\", \"start_x\", \"start_y\", \"end_x\", \"end_y\", \"qualifiers\", \"related_player_id\", \"touch\", \"shot\", \"goal\", \"type_name\"]\n",
    "    \n",
    "    # Vérifier si le fichier CSV existe\n",
    "    csv_file = \"csv_data/{}_events.csv\".format(league)\n",
    "    df = pd.DataFrame(columns=cols)\n",
    "    if os.path.exists(csv_file):\n",
    "        df = pd.read_csv(csv_file)\n",
    "\n",
    "    # Récupérer les matchs déjà présents dans le DataFrame\n",
    "    matches_in_df = set(df['game_id'])\n",
    "\n",
    "    rows = []\n",
    "    batch_size = 30\n",
    "    match_count = len(data)\n",
    "    batch_count = match_count // batch_size + (1 if match_count % batch_size != 0 else 0)\n",
    "\n",
    "    for i, (match_key, match) in enumerate(data.items(), 1):\n",
    "        game_id = match.get(\"matchId\", None)\n",
    "        # Vérifier si le match est déjà dans le DataFrame\n",
    "        if game_id in matches_in_df:\n",
    "            logging.info(\"Le match {} existe déjà dans le DataFrame. Passage au suivant.\".format(game_id))\n",
    "            continue\n",
    "\n",
    "        logging.info(\"Traitement du match {}/{}\".format(i, match_count))\n",
    "        print(\"Traitement du match {}/{}\".format(i, match_count))\n",
    "        \n",
    "        game = match_key.split(\"2024-\")[1]\n",
    "        try:\n",
    "            playerIdNameDictionary = match[\"matchCentreData\"].get(\"playerIdNameDictionary\", {})\n",
    "        except AttributeError as e:\n",
    "            logging.error(\"Une erreur AttributeError est survenue pour le match {}: {}\".format(game, e))\n",
    "            continue\n",
    "\n",
    "        date = match[\"matchCentreData\"].get(\"startDate\", None)\n",
    "        score = match[\"matchCentreData\"].get(\"score\", None)\n",
    "        \n",
    "        for event in match[\"matchCentreData\"].get(\"events\", []):\n",
    "            event_id = event.get(\"id\", None)\n",
    "            period_id = event[\"period\"].get(\"value\", None)\n",
    "            team_id = event.get(\"teamId\", None)\n",
    "            player_id = event.get(\"playerId\", None)\n",
    "            player_name = playerIdNameDictionary.get(str(player_id), None)\n",
    "            type_id = event.get(\"eventId\", None)\n",
    "            minute = event.get(\"minute\", None)\n",
    "            second = event.get(\"second\", None)\n",
    "            outcome = event.get(\"outcomeType\", {}).get(\"value\", None) == 1\n",
    "            start_x = event.get(\"x\", None)\n",
    "            start_y = event.get(\"y\", None)\n",
    "            end_x = event.get(\"endX\", None)\n",
    "            end_y = event.get(\"endY\", None)\n",
    "            qualifiers = event.get(\"qualifiers\", None)\n",
    "            related_player_id = None\n",
    "            touch = event.get(\"isTouch\", None)\n",
    "            shot = event.get(\"isShot\", False)\n",
    "            goal = event.get(\"isGoal\", False)\n",
    "            type_name = event[\"type\"].get(\"displayName\", None)\n",
    "\n",
    "            rows.append([game, game_id, score, event_id, period_id, team_id, player_id, player_name, type_id, date, minute, second, outcome, start_x, start_y, end_x, end_y, qualifiers, related_player_id, touch, shot, goal, type_name])\n",
    "\n",
    "        # Ajouter les données au DataFrame par batch\n",
    "        if i % batch_size == 0 or i == match_count:\n",
    "            df_new = pd.DataFrame(rows, columns=cols)\n",
    "            df = pd.concat([df, df_new], ignore_index=True)\n",
    "            rows = []\n",
    "            # Sauvegarder le DataFrame dans le fichier CSV\n",
    "            df.to_csv(csv_file, index=False)\n",
    "\n",
    "    logging.info(\"Traitement terminé pour la ligue : {}\".format(league))\n",
    "    print(\"Traitement terminé pour la ligue : {}\".format(league))\n",
    "\n",
    "    return df\n"
   ]
  },
  {
   "cell_type": "code",
   "execution_count": 4,
   "metadata": {},
   "outputs": [],
   "source": [
    "events_data_dict = {}\n",
    "for league in leagues:\n",
    "    events_data_dict[league] = json_to_df(data_dict[league], league)"
   ]
  }
 ],
 "metadata": {
  "kernelspec": {
   "display_name": "Python 3",
   "language": "python",
   "name": "python3"
  },
  "language_info": {
   "codemirror_mode": {
    "name": "ipython",
    "version": 3
   },
   "file_extension": ".py",
   "mimetype": "text/x-python",
   "name": "python",
   "nbconvert_exporter": "python",
   "pygments_lexer": "ipython3",
   "version": "3.9.10"
  }
 },
 "nbformat": 4,
 "nbformat_minor": 2
}
